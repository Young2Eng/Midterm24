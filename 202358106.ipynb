{
  "nbformat": 4,
  "nbformat_minor": 0,
  "metadata": {
    "colab": {
      "provenance": [],
      "authorship_tag": "ABX9TyOvdhkw3YppDs8SxHMunWyx",
      "include_colab_link": true
    },
    "kernelspec": {
      "name": "python3",
      "display_name": "Python 3"
    },
    "language_info": {
      "name": "python"
    }
  },
  "cells": [
    {
      "cell_type": "markdown",
      "metadata": {
        "id": "view-in-github",
        "colab_type": "text"
      },
      "source": [
        "<a href=\"https://colab.research.google.com/github/Young2Eng/Midterm24/blob/main/202358106.ipynb\" target=\"_parent\"><img src=\"https://colab.research.google.com/assets/colab-badge.svg\" alt=\"Open In Colab\"/></a>"
      ]
    },
    {
      "cell_type": "markdown",
      "source": [
        "<h1>🌀Midterm 2024: Yeonwoo Choi (202358106)"
      ],
      "metadata": {
        "id": "Ko0XmPDmvaew"
      }
    },
    {
      "cell_type": "markdown",
      "source": [
        "**Name Question**"
      ],
      "metadata": {
        "id": "ARl7swFdwtSI"
      }
    },
    {
      "cell_type": "code",
      "execution_count": null,
      "metadata": {
        "colab": {
          "base_uri": "https://localhost:8080/"
        },
        "id": "RLN_0ycKu53t",
        "outputId": "a84df312-bf7c-4ce2-a651-82e1c5150779"
      },
      "outputs": [
        {
          "output_type": "stream",
          "name": "stdout",
          "text": [
            "My name is your name.\n"
          ]
        }
      ],
      "source": [
        "#Name question\n",
        "x = \"My name is \"\n",
        "y = \"your name.\"\n",
        "\n",
        "print(x + y)"
      ]
    },
    {
      "cell_type": "code",
      "source": [
        "#Name question\n",
        "x = \"My name is \"\n",
        "y = \"Yeonwoo Choi.\"\n",
        "\n",
        "print(x + y)"
      ],
      "metadata": {
        "colab": {
          "base_uri": "https://localhost:8080/"
        },
        "id": "mWdwoQteyLDY",
        "outputId": "68662120-8a7c-4347-ebba-6d49881bc505"
      },
      "execution_count": null,
      "outputs": [
        {
          "output_type": "stream",
          "name": "stdout",
          "text": [
            "My name is Yeonwoo Choi.\n"
          ]
        }
      ]
    },
    {
      "cell_type": "markdown",
      "source": [
        "**Indext Question**"
      ],
      "metadata": {
        "id": "ktHpgEth1OxQ"
      }
    },
    {
      "cell_type": "code",
      "source": [
        "# Dropdown\n",
        "\n",
        "cardinal_number = \"1\" #@param = [\"1\",\"2\",\"3\",\"4\"]\n",
        "\n",
        "# Add one line of code below\n",
        "cardinal_number = int(cardinal_number)\n",
        "\n",
        "# Ordinal expression as a list\n",
        "\n",
        "words = [\"First\", \"Second\", \"Third\",\"Fourth\"]\n",
        "\n",
        "print(\"The ordinal expression:\", words[cardinal_number])"
      ],
      "metadata": {
        "colab": {
          "base_uri": "https://localhost:8080/"
        },
        "id": "ToUv21Ik1TpY",
        "outputId": "5ed1276a-b8b1-4d51-f9c0-00d21acf1082"
      },
      "execution_count": null,
      "outputs": [
        {
          "output_type": "stream",
          "name": "stdout",
          "text": [
            "The ordinal expression: Second\n"
          ]
        }
      ]
    },
    {
      "cell_type": "markdown",
      "source": [
        "**Variable question**"
      ],
      "metadata": {
        "id": "j_pPxuhm2AWh"
      }
    },
    {
      "cell_type": "code",
      "source": [
        "from ast import Name\n",
        "# 'Mary, 1998, Ohio; and John, 1999, Boston.'\n",
        "\n",
        "print(\"Hellon my name is {}. I was born in {}, and I'm from {}. Nice to meet you.\".format(\"Mary\", \"1998\", \"Ohio\"))\n",
        "print(\"Hellow my name is {}. I was born in 1999. and I'm from Boston. Nice to meet you.\".format(\"Jone\", \"1999\", \"Boston\"))"
      ],
      "metadata": {
        "colab": {
          "base_uri": "https://localhost:8080/"
        },
        "id": "JM2udShY2DpQ",
        "outputId": "07539749-9de8-4144-b0f7-d16e3dbcb3c4"
      },
      "execution_count": null,
      "outputs": [
        {
          "output_type": "stream",
          "name": "stdout",
          "text": [
            "Hellon my name is Mary. I was born in 1998, and I'm from Ohio. Nice to meet you.\n",
            "Hellow my name is Jone. I was born in 1999. and I'm from Boston. Nice to meet you.\n"
          ]
        }
      ]
    },
    {
      "cell_type": "markdown",
      "source": [
        "**GTTS question**"
      ],
      "metadata": {
        "id": "NHlulbGt6qiB"
      }
    },
    {
      "cell_type": "code",
      "source": [
        "\n",
        "# First, install the gTTS library if you haven't already\n",
        "!pip install gTTS\n",
        "\n",
        "# Import the gTTS library\n",
        "from gtts import gTTS\n",
        "\n",
        "# Import IPython display module\n",
        "from IPython.display import Audio, display"
      ],
      "metadata": {
        "colab": {
          "base_uri": "https://localhost:8080/"
        },
        "id": "kVMgC6Si628Z",
        "outputId": "9d4a32af-13ae-400f-fbf9-bb7687f2454e"
      },
      "execution_count": null,
      "outputs": [
        {
          "output_type": "stream",
          "name": "stdout",
          "text": [
            "Collecting gTTS\n",
            "  Downloading gTTS-2.5.1-py3-none-any.whl (29 kB)\n",
            "Requirement already satisfied: requests<3,>=2.27 in /usr/local/lib/python3.10/dist-packages (from gTTS) (2.31.0)\n",
            "Requirement already satisfied: click<8.2,>=7.1 in /usr/local/lib/python3.10/dist-packages (from gTTS) (8.1.7)\n",
            "Requirement already satisfied: charset-normalizer<4,>=2 in /usr/local/lib/python3.10/dist-packages (from requests<3,>=2.27->gTTS) (3.3.2)\n",
            "Requirement already satisfied: idna<4,>=2.5 in /usr/local/lib/python3.10/dist-packages (from requests<3,>=2.27->gTTS) (3.7)\n",
            "Requirement already satisfied: urllib3<3,>=1.21.1 in /usr/local/lib/python3.10/dist-packages (from requests<3,>=2.27->gTTS) (2.0.7)\n",
            "Requirement already satisfied: certifi>=2017.4.17 in /usr/local/lib/python3.10/dist-packages (from requests<3,>=2.27->gTTS) (2024.2.2)\n",
            "Installing collected packages: gTTS\n",
            "Successfully installed gTTS-2.5.1\n"
          ]
        }
      ]
    },
    {
      "cell_type": "code",
      "source": [
        "\n",
        "# Text to be converted to speech\n",
        "text = \"I have succeeded in this task.\"\n",
        "\n",
        "# Language in which you want to convert\n",
        "language = 'en'\n",
        "\n",
        "# Pass the text and language to the gTTS module\n",
        "speech = gTTS(text = text, lang = language, slow = False)\n",
        "\n",
        "# Save the converted audio file\n",
        "speech.save(\"output.mp3\")\n",
        "\n",
        "# Display the audio directly in the notebook\n",
        "display(Audio(\"output.mp3\", autoplay=True))"
      ],
      "metadata": {
        "colab": {
          "base_uri": "https://localhost:8080/",
          "height": 74
        },
        "id": "Ao9dIp6N66Gp",
        "outputId": "f6ffdc14-61e4-4ff7-cc57-b2f7002e7a60"
      },
      "execution_count": null,
      "outputs": [
        {
          "output_type": "display_data",
          "data": {
            "text/plain": [
              "<IPython.lib.display.Audio object>"
            ],
            "text/html": [
              "\n",
              "                <audio  controls=\"controls\" autoplay=\"autoplay\">\n",
              "                    <source src=\"data:audio/mpeg;base64,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\" type=\"audio/mpeg\" />\n",
              "                    Your browser does not support the audio element.\n",
              "                </audio>\n",
              "              "
            ]
          },
          "metadata": {}
        }
      ]
    },
    {
      "cell_type": "markdown",
      "source": [
        "**Dictionary Question**"
      ],
      "metadata": {
        "id": "stYvuEaj7XRJ"
      }
    },
    {
      "cell_type": "code",
      "source": [
        "# Dictionary with some data\n",
        "person = {\"name\": \"John\", \"age\": 30, \"city\": \"New York\"}\n",
        "\n",
        "print()\n",
        "\n",
        "print(\"name: \", Sarah)"
      ],
      "metadata": {
        "id": "8-VX-XuF7b8c"
      },
      "execution_count": null,
      "outputs": []
    },
    {
      "cell_type": "code",
      "source": [
        "my_dict = {'name': 'Alice', 'age': 30}"
      ],
      "metadata": {
        "id": "DhpwZA5V8XbI"
      },
      "execution_count": null,
      "outputs": []
    },
    {
      "cell_type": "code",
      "source": [
        "my_list = ['apple', 'banana', 'cherry', 'date', 'elderberry']"
      ],
      "metadata": {
        "id": "0bmRNGfZ8cz0"
      },
      "execution_count": null,
      "outputs": []
    },
    {
      "cell_type": "markdown",
      "source": [
        "**Funtion dictionary**"
      ],
      "metadata": {
        "id": "CZwIpgzG_vpJ"
      }
    },
    {
      "cell_type": "code",
      "source": [
        "input(20 / 4)"
      ],
      "metadata": {
        "colab": {
          "base_uri": "https://localhost:8080/",
          "height": 300
        },
        "id": "IDXc8jQI_y2W",
        "outputId": "3345d67c-a571-4d1a-e264-0138f1cd233b"
      },
      "execution_count": null,
      "outputs": [
        {
          "output_type": "error",
          "ename": "KeyboardInterrupt",
          "evalue": "Interrupted by user",
          "traceback": [
            "\u001b[0;31m---------------------------------------------------------------------------\u001b[0m",
            "\u001b[0;31mKeyboardInterrupt\u001b[0m                         Traceback (most recent call last)",
            "\u001b[0;32m<ipython-input-83-e3d684afb3cb>\u001b[0m in \u001b[0;36m<cell line: 1>\u001b[0;34m()\u001b[0m\n\u001b[0;32m----> 1\u001b[0;31m \u001b[0minput\u001b[0m\u001b[0;34m(\u001b[0m\u001b[0;36m20\u001b[0m \u001b[0;34m/\u001b[0m \u001b[0;36m4\u001b[0m\u001b[0;34m)\u001b[0m\u001b[0;34m\u001b[0m\u001b[0;34m\u001b[0m\u001b[0m\n\u001b[0m",
            "\u001b[0;32m/usr/local/lib/python3.10/dist-packages/ipykernel/kernelbase.py\u001b[0m in \u001b[0;36mraw_input\u001b[0;34m(self, prompt)\u001b[0m\n\u001b[1;32m    849\u001b[0m                 \u001b[0;34m\"raw_input was called, but this frontend does not support input requests.\"\u001b[0m\u001b[0;34m\u001b[0m\u001b[0;34m\u001b[0m\u001b[0m\n\u001b[1;32m    850\u001b[0m             )\n\u001b[0;32m--> 851\u001b[0;31m         return self._input_request(str(prompt),\n\u001b[0m\u001b[1;32m    852\u001b[0m             \u001b[0mself\u001b[0m\u001b[0;34m.\u001b[0m\u001b[0m_parent_ident\u001b[0m\u001b[0;34m,\u001b[0m\u001b[0;34m\u001b[0m\u001b[0;34m\u001b[0m\u001b[0m\n\u001b[1;32m    853\u001b[0m             \u001b[0mself\u001b[0m\u001b[0;34m.\u001b[0m\u001b[0m_parent_header\u001b[0m\u001b[0;34m,\u001b[0m\u001b[0;34m\u001b[0m\u001b[0;34m\u001b[0m\u001b[0m\n",
            "\u001b[0;32m/usr/local/lib/python3.10/dist-packages/ipykernel/kernelbase.py\u001b[0m in \u001b[0;36m_input_request\u001b[0;34m(self, prompt, ident, parent, password)\u001b[0m\n\u001b[1;32m    893\u001b[0m             \u001b[0;32mexcept\u001b[0m \u001b[0mKeyboardInterrupt\u001b[0m\u001b[0;34m:\u001b[0m\u001b[0;34m\u001b[0m\u001b[0;34m\u001b[0m\u001b[0m\n\u001b[1;32m    894\u001b[0m                 \u001b[0;31m# re-raise KeyboardInterrupt, to truncate traceback\u001b[0m\u001b[0;34m\u001b[0m\u001b[0;34m\u001b[0m\u001b[0m\n\u001b[0;32m--> 895\u001b[0;31m                 \u001b[0;32mraise\u001b[0m \u001b[0mKeyboardInterrupt\u001b[0m\u001b[0;34m(\u001b[0m\u001b[0;34m\"Interrupted by user\"\u001b[0m\u001b[0;34m)\u001b[0m \u001b[0;32mfrom\u001b[0m \u001b[0;32mNone\u001b[0m\u001b[0;34m\u001b[0m\u001b[0;34m\u001b[0m\u001b[0m\n\u001b[0m\u001b[1;32m    896\u001b[0m             \u001b[0;32mexcept\u001b[0m \u001b[0mException\u001b[0m \u001b[0;32mas\u001b[0m \u001b[0me\u001b[0m\u001b[0;34m:\u001b[0m\u001b[0;34m\u001b[0m\u001b[0;34m\u001b[0m\u001b[0m\n\u001b[1;32m    897\u001b[0m                 \u001b[0mself\u001b[0m\u001b[0;34m.\u001b[0m\u001b[0mlog\u001b[0m\u001b[0;34m.\u001b[0m\u001b[0mwarning\u001b[0m\u001b[0;34m(\u001b[0m\u001b[0;34m\"Invalid Message:\"\u001b[0m\u001b[0;34m,\u001b[0m \u001b[0mexc_info\u001b[0m\u001b[0;34m=\u001b[0m\u001b[0;32mTrue\u001b[0m\u001b[0;34m)\u001b[0m\u001b[0;34m\u001b[0m\u001b[0;34m\u001b[0m\u001b[0m\n",
            "\u001b[0;31mKeyboardInterrupt\u001b[0m: Interrupted by user"
          ]
        }
      ]
    },
    {
      "cell_type": "markdown",
      "source": [
        "**Audio question**"
      ],
      "metadata": {
        "id": "xAzL_RQzAIaT"
      }
    },
    {
      "cell_type": "code",
      "source": [
        "import gradio as gr\n",
        "from gtts import gTTS\n",
        "import os\n",
        "\n",
        "def text_to_speech(text, language):\n",
        "    lang_code = 'en' if language == \"English\" else 'ko'\n",
        "    tts = gTTS(text=text, lang=lang_code, slow=False)\n",
        "    tts.save(\"output.mp3\")\n",
        "    return \"output.mp3\"\n",
        "\n",
        "interface = gr.Interface(\n",
        "    fn=text_to_speech,\n",
        "    inputs=[\n",
        "        gr.Textbox(lines=3, label=\"Enter text\"),\n",
        "        gr.Radio(choices=[\"English\", \"Korean\"], label=\"Select language\")\n",
        "    ],\n",
        "    outputs=gr.Audio(type=\"filepath\", label=\"Audio\"),\n",
        "    title=\"Text-to-Speech\",\n",
        "    description=\"Type in some text, select a language, and generate audio.\",\n",
        ")\n",
        "\n",
        "interface.launch()\n"
      ],
      "metadata": {
        "colab": {
          "base_uri": "https://localhost:8080/",
          "height": 404
        },
        "id": "L45Yweh6AL3z",
        "outputId": "58894514-0d40-4ad9-8c7d-c0bd651c5927"
      },
      "execution_count": null,
      "outputs": [
        {
          "output_type": "error",
          "ename": "ModuleNotFoundError",
          "evalue": "No module named 'gradio'",
          "traceback": [
            "\u001b[0;31m---------------------------------------------------------------------------\u001b[0m",
            "\u001b[0;31mModuleNotFoundError\u001b[0m                       Traceback (most recent call last)",
            "\u001b[0;32m<ipython-input-85-659c5f426898>\u001b[0m in \u001b[0;36m<cell line: 1>\u001b[0;34m()\u001b[0m\n\u001b[0;32m----> 1\u001b[0;31m \u001b[0;32mimport\u001b[0m \u001b[0mgradio\u001b[0m \u001b[0;32mas\u001b[0m \u001b[0mgr\u001b[0m\u001b[0;34m\u001b[0m\u001b[0;34m\u001b[0m\u001b[0m\n\u001b[0m\u001b[1;32m      2\u001b[0m \u001b[0;32mfrom\u001b[0m \u001b[0mgtts\u001b[0m \u001b[0;32mimport\u001b[0m \u001b[0mgTTS\u001b[0m\u001b[0;34m\u001b[0m\u001b[0;34m\u001b[0m\u001b[0m\n\u001b[1;32m      3\u001b[0m \u001b[0;32mimport\u001b[0m \u001b[0mos\u001b[0m\u001b[0;34m\u001b[0m\u001b[0;34m\u001b[0m\u001b[0m\n\u001b[1;32m      4\u001b[0m \u001b[0;34m\u001b[0m\u001b[0m\n\u001b[1;32m      5\u001b[0m \u001b[0;32mdef\u001b[0m \u001b[0mtext_to_speech\u001b[0m\u001b[0;34m(\u001b[0m\u001b[0mtext\u001b[0m\u001b[0;34m,\u001b[0m \u001b[0mlanguage\u001b[0m\u001b[0;34m)\u001b[0m\u001b[0;34m:\u001b[0m\u001b[0;34m\u001b[0m\u001b[0;34m\u001b[0m\u001b[0m\n",
            "\u001b[0;31mModuleNotFoundError\u001b[0m: No module named 'gradio'",
            "",
            "\u001b[0;31m---------------------------------------------------------------------------\u001b[0;32m\nNOTE: If your import is failing due to a missing package, you can\nmanually install dependencies using either !pip or !apt.\n\nTo view examples of installing some common dependencies, click the\n\"Open Examples\" button below.\n\u001b[0;31m---------------------------------------------------------------------------\u001b[0m\n"
          ],
          "errorDetails": {
            "actions": [
              {
                "action": "open_url",
                "actionText": "Open Examples",
                "url": "/notebooks/snippets/importing_libraries.ipynb"
              }
            ]
          }
        }
      ]
    },
    {
      "cell_type": "code",
      "source": [
        "# First, install the gTTS library if you haven't already\n",
        "!pip install gTTS\n",
        "\n",
        "# Import the gTTS library\n",
        "from gtts import gTTS\n",
        "\n",
        "# Import IPython display module\n",
        "from IPython.display import Audio, display"
      ],
      "metadata": {
        "id": "moDDdOLQAm9a"
      },
      "execution_count": null,
      "outputs": []
    },
    {
      "cell_type": "code",
      "source": [
        "# Text to be converted to speech\n",
        "text = \"This is a test message.\"\n",
        "\n",
        "# Language in which you want to convert\n",
        "language = 'en'\n",
        "\n",
        "# Pass the text and language to the gTTS module\n",
        "speech = gTTS(text = text, lang = language, slow = False)\n",
        "\n",
        "# Save the converted audio file\n",
        "speech.save(\"output.mp3\")\n",
        "\n",
        "# Display the audio directly in the notebook\n",
        "display(Audio(\"output.mp3\", autoplay=True))"
      ],
      "metadata": {
        "id": "sE8t2bq7Apyy"
      },
      "execution_count": null,
      "outputs": []
    },
    {
      "cell_type": "markdown",
      "source": [
        "**Part 3**"
      ],
      "metadata": {
        "id": "EolK3r0N9wWB"
      }
    },
    {
      "cell_type": "code",
      "source": [
        "print(\"5\" * 3 + \"7\")"
      ],
      "metadata": {
        "colab": {
          "base_uri": "https://localhost:8080/"
        },
        "id": "9l_cuW0G8ifJ",
        "outputId": "969b1f58-13c5-45e6-8509-ebae33165128"
      },
      "execution_count": null,
      "outputs": [
        {
          "output_type": "stream",
          "name": "stdout",
          "text": [
            "5557\n"
          ]
        }
      ]
    },
    {
      "cell_type": "code",
      "source": [
        "_my_variable"
      ],
      "metadata": {
        "colab": {
          "base_uri": "https://localhost:8080/",
          "height": 147
        },
        "id": "OtezACVG98SZ",
        "outputId": "012b39e1-30fc-466f-f9bf-6a7a90c6009c"
      },
      "execution_count": null,
      "outputs": [
        {
          "output_type": "error",
          "ename": "NameError",
          "evalue": "name '_my_variable' is not defined",
          "traceback": [
            "\u001b[0;31m---------------------------------------------------------------------------\u001b[0m",
            "\u001b[0;31mNameError\u001b[0m                                 Traceback (most recent call last)",
            "\u001b[0;32m<ipython-input-78-01d360b4ffa6>\u001b[0m in \u001b[0;36m<cell line: 1>\u001b[0;34m()\u001b[0m\n\u001b[0;32m----> 1\u001b[0;31m \u001b[0m_my_variable\u001b[0m\u001b[0;34m\u001b[0m\u001b[0;34m\u001b[0m\u001b[0m\n\u001b[0m",
            "\u001b[0;31mNameError\u001b[0m: name '_my_variable' is not defined"
          ]
        }
      ]
    },
    {
      "cell_type": "code",
      "source": [
        "num = 5 + 3.2\n",
        "print(num)"
      ],
      "metadata": {
        "colab": {
          "base_uri": "https://localhost:8080/"
        },
        "id": "bJEEQLhg-H0B",
        "outputId": "eb1661a4-c9b4-4c3d-d787-ac21cdf7d6e6"
      },
      "execution_count": null,
      "outputs": [
        {
          "output_type": "stream",
          "name": "stdout",
          "text": [
            "8.2\n"
          ]
        }
      ]
    },
    {
      "cell_type": "code",
      "source": [
        "my_list = [10, 20, 30, 40, 50]\n",
        "my_list[2:4]"
      ],
      "metadata": {
        "colab": {
          "base_uri": "https://localhost:8080/"
        },
        "id": "CiMxpqM6-Myh",
        "outputId": "baa073e0-cab0-4937-9432-e84feac85a95"
      },
      "execution_count": null,
      "outputs": [
        {
          "output_type": "execute_result",
          "data": {
            "text/plain": [
              "[30, 40]"
            ]
          },
          "metadata": {},
          "execution_count": 80
        }
      ]
    },
    {
      "cell_type": "code",
      "source": [
        "print('5' + '7')"
      ],
      "metadata": {
        "colab": {
          "base_uri": "https://localhost:8080/"
        },
        "id": "cVdaYerQ-RCB",
        "outputId": "66f30138-f895-4614-e4ec-e205abb464fb"
      },
      "execution_count": null,
      "outputs": [
        {
          "output_type": "stream",
          "name": "stdout",
          "text": [
            "57\n"
          ]
        }
      ]
    }
  ]
}