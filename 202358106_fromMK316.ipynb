{
  "nbformat": 4,
  "nbformat_minor": 0,
  "metadata": {
    "colab": {
      "provenance": [],
      "include_colab_link": true
    },
    "kernelspec": {
      "name": "python3",
      "display_name": "Python 3"
    },
    "language_info": {
      "name": "python"
    }
  },
  "cells": [
    {
      "cell_type": "markdown",
      "metadata": {
        "id": "view-in-github",
        "colab_type": "text"
      },
      "source": [
        "<a href=\"https://colab.research.google.com/github/Young2Eng/Midterm24/blob/main/202358106_fromMK316.ipynb\" target=\"_parent\"><img src=\"https://colab.research.google.com/assets/colab-badge.svg\" alt=\"Open In Colab\"/></a>"
      ]
    },
    {
      "cell_type": "markdown",
      "source": [
        "<h1>🌀Midterm 2024: Yeonwoo Choi (202358106)"
      ],
      "metadata": {
        "id": "Ko0XmPDmvaew"
      }
    },
    {
      "cell_type": "markdown",
      "source": [
        "**Name Question**"
      ],
      "metadata": {
        "id": "ARl7swFdwtSI"
      }
    },
    {
      "cell_type": "code",
      "execution_count": 1,
      "metadata": {
        "colab": {
          "base_uri": "https://localhost:8080/"
        },
        "id": "RLN_0ycKu53t",
        "outputId": "3c5926c9-a593-4732-ebd7-6d7ad74bf5c3"
      },
      "outputs": [
        {
          "output_type": "stream",
          "name": "stdout",
          "text": [
            "My name is your name.\n"
          ]
        }
      ],
      "source": [
        "#Name question\n",
        "x = \"My name is \"\n",
        "y = \"your name.\"\n",
        "\n",
        "print(x + y)"
      ]
    },
    {
      "cell_type": "code",
      "source": [
        "#Name question\n",
        "x = \"My name is \"\n",
        "y = \"Yeonwoo Choi.\"\n",
        "\n",
        "print(x + y)"
      ],
      "metadata": {
        "colab": {
          "base_uri": "https://localhost:8080/"
        },
        "id": "mWdwoQteyLDY",
        "outputId": "68662120-8a7c-4347-ebba-6d49881bc505"
      },
      "execution_count": null,
      "outputs": [
        {
          "output_type": "stream",
          "name": "stdout",
          "text": [
            "My name is Yeonwoo Choi.\n"
          ]
        }
      ]
    },
    {
      "cell_type": "markdown",
      "source": [
        "##😍My comments on the above code\n",
        "\n",
        "Use input() to get strings (your name) as shown below. Think about what benefits we can get by using input() rather than strings.\n"
      ],
      "metadata": {
        "id": "-zrAAqmhRwbV"
      }
    },
    {
      "cell_type": "code",
      "source": [
        "#Name question\n",
        "x = \"My name is \"\n",
        "y = input() # \"Yeonwoo Choi.\"\n",
        "\n",
        "print(x + y)"
      ],
      "metadata": {
        "id": "ttjVpmCeSHRg",
        "outputId": "aa946bf6-92c3-460c-c675-be7386e1043c",
        "colab": {
          "base_uri": "https://localhost:8080/"
        }
      },
      "execution_count": 2,
      "outputs": [
        {
          "output_type": "stream",
          "name": "stdout",
          "text": [
            "Yeonwoo Choi\n",
            "My name is Yeonwoo Choi\n"
          ]
        }
      ]
    },
    {
      "cell_type": "markdown",
      "source": [
        "**Indext Question**"
      ],
      "metadata": {
        "id": "ktHpgEth1OxQ"
      }
    },
    {
      "cell_type": "code",
      "source": [
        "# Dropdown\n",
        "\n",
        "cardinal_number = \"1\" #@param = [\"1\",\"2\",\"3\",\"4\"]\n",
        "\n",
        "# Add one line of code below\n",
        "cardinal_number = int(cardinal_number)\n",
        "\n",
        "# Ordinal expression as a list\n",
        "\n",
        "words = [\"First\", \"Second\", \"Third\",\"Fourth\"]\n",
        "\n",
        "print(\"The ordinal expression:\", words[cardinal_number])"
      ],
      "metadata": {
        "colab": {
          "base_uri": "https://localhost:8080/"
        },
        "id": "ToUv21Ik1TpY",
        "outputId": "669b2720-ff13-4704-eec7-6c13631114be"
      },
      "execution_count": 3,
      "outputs": [
        {
          "output_type": "stream",
          "name": "stdout",
          "text": [
            "The ordinal expression: Second\n"
          ]
        }
      ]
    },
    {
      "cell_type": "markdown",
      "source": [
        "##😍My comments on the above code\n",
        "\n",
        "Pay attention to the last line of the code. In 'words[cardinal_number]', the variable cardinal_number is defined in the first code line, which is \"1\" for example. This means that 'words[1]' in the last line.\n",
        "\n",
        "To get the correct result, we need 'words[0] for the first item in words, right?\n",
        "\n",
        "So, try to change 'words[cardinal_number-1]' in the last line inside the print function, as shown below.\n"
      ],
      "metadata": {
        "id": "stQHuvXuSYnf"
      }
    },
    {
      "cell_type": "code",
      "source": [
        "# Dropdown\n",
        "\n",
        "cardinal_number = \"1\" #@param = [\"1\",\"2\",\"3\",\"4\"]\n",
        "\n",
        "# Add one line of code below\n",
        "cardinal_number = int(cardinal_number)\n",
        "\n",
        "# Ordinal expression as a list\n",
        "\n",
        "words = [\"First\", \"Second\", \"Third\",\"Fourth\"]\n",
        "\n",
        "print(\"The ordinal expression:\", words[cardinal_number-1])  # Error fixed here"
      ],
      "metadata": {
        "cellView": "form",
        "id": "qCdMXfNSTB8U",
        "outputId": "f1539155-cf4f-46ea-f16d-dfa7eaaa5a30",
        "colab": {
          "base_uri": "https://localhost:8080/"
        }
      },
      "execution_count": 4,
      "outputs": [
        {
          "output_type": "stream",
          "name": "stdout",
          "text": [
            "The ordinal expression: First\n"
          ]
        }
      ]
    },
    {
      "cell_type": "markdown",
      "source": [
        "**Variable question**"
      ],
      "metadata": {
        "id": "j_pPxuhm2AWh"
      }
    },
    {
      "cell_type": "code",
      "source": [
        "from ast import Name\n",
        "# 'Mary, 1998, Ohio; and John, 1999, Boston.'\n",
        "\n",
        "print(\"Hellon my name is {}. I was born in {}, and I'm from {}. Nice to meet you.\".format(\"Mary\", \"1998\", \"Ohio\"))\n",
        "print(\"Hellow my name is {}. I was born in 1999. and I'm from Boston. Nice to meet you.\".format(\"Jone\", \"1999\", \"Boston\"))"
      ],
      "metadata": {
        "colab": {
          "base_uri": "https://localhost:8080/"
        },
        "id": "JM2udShY2DpQ",
        "outputId": "f9aa1a81-f6c0-4138-c051-1321cab14149"
      },
      "execution_count": 5,
      "outputs": [
        {
          "output_type": "stream",
          "name": "stdout",
          "text": [
            "Hellon my name is Mary. I was born in 1998, and I'm from Ohio. Nice to meet you.\n",
            "Hellow my name is Jone. I was born in 1999. and I'm from Boston. Nice to meet you.\n"
          ]
        }
      ]
    },
    {
      "cell_type": "markdown",
      "source": [
        "## 😍 The code above is now what we've learned.\n",
        "\n",
        "However, as you can see, Python is very flexible and there are different ways to get what we want. I'm glad that you now can search and find codes as you need :-))"
      ],
      "metadata": {
        "id": "VtW99e-6TLbX"
      }
    },
    {
      "cell_type": "markdown",
      "source": [
        "**GTTS question**"
      ],
      "metadata": {
        "id": "NHlulbGt6qiB"
      }
    },
    {
      "cell_type": "code",
      "source": [
        "\n",
        "# First, install the gTTS library if you haven't already\n",
        "!pip install gTTS\n",
        "\n",
        "# Import the gTTS library\n",
        "from gtts import gTTS\n",
        "\n",
        "# Import IPython display module\n",
        "from IPython.display import Audio, display"
      ],
      "metadata": {
        "colab": {
          "base_uri": "https://localhost:8080/"
        },
        "id": "kVMgC6Si628Z",
        "outputId": "cfffc774-8727-4236-dba7-f287fdda0422"
      },
      "execution_count": 6,
      "outputs": [
        {
          "output_type": "stream",
          "name": "stdout",
          "text": [
            "Collecting gTTS\n",
            "  Downloading gTTS-2.5.1-py3-none-any.whl (29 kB)\n",
            "Requirement already satisfied: requests<3,>=2.27 in /usr/local/lib/python3.10/dist-packages (from gTTS) (2.31.0)\n",
            "Requirement already satisfied: click<8.2,>=7.1 in /usr/local/lib/python3.10/dist-packages (from gTTS) (8.1.7)\n",
            "Requirement already satisfied: charset-normalizer<4,>=2 in /usr/local/lib/python3.10/dist-packages (from requests<3,>=2.27->gTTS) (3.3.2)\n",
            "Requirement already satisfied: idna<4,>=2.5 in /usr/local/lib/python3.10/dist-packages (from requests<3,>=2.27->gTTS) (3.7)\n",
            "Requirement already satisfied: urllib3<3,>=1.21.1 in /usr/local/lib/python3.10/dist-packages (from requests<3,>=2.27->gTTS) (2.0.7)\n",
            "Requirement already satisfied: certifi>=2017.4.17 in /usr/local/lib/python3.10/dist-packages (from requests<3,>=2.27->gTTS) (2024.2.2)\n",
            "Installing collected packages: gTTS\n",
            "Successfully installed gTTS-2.5.1\n"
          ]
        }
      ]
    },
    {
      "cell_type": "code",
      "source": [
        "\n",
        "# Text to be converted to speech\n",
        "text = \"I have succeeded in this task.\"\n",
        "\n",
        "# Language in which you want to convert\n",
        "language = 'en'\n",
        "\n",
        "# Pass the text and language to the gTTS module\n",
        "speech = gTTS(text = text, lang = language, slow = False)\n",
        "\n",
        "# Save the converted audio file\n",
        "speech.save(\"output.mp3\")\n",
        "\n",
        "# Display the audio directly in the notebook\n",
        "display(Audio(\"output.mp3\", autoplay=True))"
      ],
      "metadata": {
        "colab": {
          "base_uri": "https://localhost:8080/",
          "height": 74
        },
        "id": "Ao9dIp6N66Gp",
        "outputId": "f3cf0c18-6c14-40eb-e9ce-800c9cc891e1"
      },
      "execution_count": 7,
      "outputs": [
        {
          "output_type": "display_data",
          "data": {
            "text/plain": [
              "<IPython.lib.display.Audio object>"
            ],
            "text/html": [
              "\n",
              "                <audio  controls=\"controls\" autoplay=\"autoplay\">\n",
              "                    <source src=\"data:audio/mpeg;base64,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\" type=\"audio/mpeg\" />\n",
              "                    Your browser does not support the audio element.\n",
              "                </audio>\n",
              "              "
            ]
          },
          "metadata": {}
        }
      ]
    },
    {
      "cell_type": "markdown",
      "source": [
        "## 😍 Comments on the above question\n",
        "\n",
        "If you use input() instead of specifying a text, you can freely get audio as you type. see below"
      ],
      "metadata": {
        "id": "Ghgy4MclTsyd"
      }
    },
    {
      "cell_type": "code",
      "source": [
        "# Text to be converted to speech\n",
        "text = input()   #\"I have succeeded in this task.\" (we don't need this now.)\n",
        "\n",
        "# Language in which you want to convert\n",
        "language = 'en'\n",
        "\n",
        "# Pass the text and language to the gTTS module\n",
        "speech = gTTS(text = text, lang = language, slow = False)\n",
        "\n",
        "# Save the converted audio file\n",
        "speech.save(\"output.mp3\")\n",
        "\n",
        "# Display the audio directly in the notebook\n",
        "display(Audio(\"output.mp3\", autoplay=True))"
      ],
      "metadata": {
        "id": "z1I99tERTxm8",
        "outputId": "62bb6811-c350-4ebc-910a-6f4d85315e55",
        "colab": {
          "base_uri": "https://localhost:8080/",
          "height": 92
        }
      },
      "execution_count": 8,
      "outputs": [
        {
          "name": "stdout",
          "output_type": "stream",
          "text": [
            "See this works well.\n"
          ]
        },
        {
          "output_type": "display_data",
          "data": {
            "text/plain": [
              "<IPython.lib.display.Audio object>"
            ],
            "text/html": [
              "\n",
              "                <audio  controls=\"controls\" autoplay=\"autoplay\">\n",
              "                    <source src=\"data:audio/mpeg;base64,//NExAARsAHMAUEYAAfB8H3///p4nBA4oEATB8HwfB8EAQBAEATB8HwfB8EAQBAEATB8HwfB8EAQBAEATB8HwfB8EAQBAEATB8HwfPgAEAQd//+hxmCcBUhLZoYGw3cu//NExAwUuyJkAZM4ARoZocXvJETvPPxhyCfzGjimCL/melVc3+34Pzue3/++efHx4WHGFz//8zo3lx8biycJiJxhAX////n/0QgKCAOxkcHHJiQwAMor9aWTb/9f6f20//NExAwScxaMAcUoAXv0ZX//yq2n//73PmmVdXV17H8nRTPcxqTyJIpGa2erraziAgOnld3IQaPFCmD4sKBwgCDnKJoHBUQHB8w+Am/urfz/v/9f5xFyrLv7zG0RHx////NExBUXsyKQABBWvPxv+3b2V3w+2Mnt97oZUppN6rpO5u4Yx8vYlc7dsaFKGjmZuw/bFD+cHY9U3To4mXESDtE0noDrHYBchkR7HaO4gbLh7Icfyem+BG/9v/+X//+u//NExAkUoyKkAChOvL8v/9f3////sZRfPpWpNbps7oinIa6uehh6uYhyM5QgazMOithqMi8VixRwaECI0LCMLAdjxYJBWGhJCcH4QA7EsdJiKYg4Lx9qDk////L///my//NExAkTix6oABBWvN/r/5TL//x////9+3///9/z/LK33ztjbTI3NbFTFXTp2oW22wnueratS9d5PNTItSOD4TjUhA9oBuVOOKlSZEIBUdJ8/NUP/z///////5dv//////NExA0Qixq0AAhOvf//37//d+voekxR9mQwidelV57is4iVIFjUYqpQkQNc1STNGwkiINSQYGhGLihMFg0MGg2FKmqdRgBAGC+ZlhyThRf5nP8v///MDkFyP/7uzf////NExB0Rywa4AGBKuf/6U//s+tdOrGK7EcXYx0NpQpn12R4jUgsIqRWFpZjCNhEVRxExoC2BxFXVXmU0wYG5s3abVf2sWAi/MvTcIzL5w6WVu/qvpO9kPNSIwpB4A8ZN//NExCgRma6wAMnOlDAeEB0mkqSLCOXInn0M+Z//XepQM3o9F3zKzv///Uo31LKICFgqlZUAiKGQLy6hitxgu3mb5/p/ur/UJw8KPzAfhKP7qk1JCXO1YuJlM5ib/bDO//NExDQQibK0AKFWlD9n/D+lRELGPv/////01ed/86QElCaRuu+nG7JsuoV8SB28SFP2/f0dP+KfmcQQ8BWAQUFgBgiD0G+iitHhwZSiror3f/9zE/O1fJKGj0E4/RpX//NExEQSMb60AMFQlP5b//+h5/7wla6TiAXWyn7fuil6H+OhCS9CQjv6Gv9X/Fl38qYAgK3Gwgg1EYxpFRU4JR60UxNDv/Zb////0+2WC3/////5/vyix5+9RMGaHHA2//NExE4RKb60ANHQlPEX2l1KwNwg0b0CEJexg6UfqiEtKGkaowsHSGzGAYDCz5UGgCK1ZTiqbob/T//9CKK//+JRF//xK46GhFKpkkrW/p4RAYADmP8gsKmEsEnUsMrp//NExFwSAcKkAMnKlAEg4CGPsVStLoZdiMqvdm9/zlvZW5enwNuo+i3c2xnREMaqOFZWTT////hm6f7P//+1R7p2ydWKZ08jdxrZs4fjLLLQMVRXgeWtfEDKQrlCabZR//NExGcSibZwANMElM3FGK3qRXbkT+O1SAuG2S5oKHkZGJ4I1EDkbamLkltqIMXWQUgJMrKYXYvYIMn4bShkQJd0kAfEDVs8LPe+fGAD2kFeFijIs6flwIkyTLj1jdXG//NExG8a4XaEAMJSlOT9KYrIZJ+po8bXWqhQQY+SLVkBFjRFyALxAjFvG7YYZTuE/p9qRurqzfpRuESKr3iQC0g9zUa1tjP9icaw+2PI009ImaMCtdUlkuuZ5c0gaiZ+//NExFYf2caUANPelHU3x/6RNfVvf419PH6vZ4YcLhF6W9gnpNA4dHo/+NSERzyAsgHJogSCqr/e41oiYlFAUnt1WqGGaHOC0MTMQ3wTZ4QdeGn0uzb14FIMXXvHzJbd//NExCkYOcqsANPWlHw3iuJR8BcBMd5AE07TKY7/e5rWqn+6hVxMmrplXUfcfd9/9VMVFSqcWUQ5qG2/2f//mzhxz5cp5/eX0EAC2tR780Oizulx5LDyK0wSoyi7rEHJ//NExBsYodKsANNalCfoH/MDxs65wej1RjhawjDmcurJArapSyXLyT1LMknzAmkqXakDZFFqalt1sp9voOilSTNFnkAcFjZ0HHKG+7//+a2CYKpchd6/VcgNFs612Zgw//NExAsTMdqsANNKmFB4HiNZmlzUEsfbQGBTbk5/SV1DsP0EHDGEqaq0x7Gz6Cj+j/FWmVAK/OnzfT6P0OBS2c4tqewu7pu//+ZzVBZ8Wa3NZtjBugd6V4ULMhEs5FiF//NExBEVoxqsAMFEvT4duAVqkQWSqMvKYpdg8LOpah0VS0pa+//9FLvb///6suk7//7+++InZCMqE5+p3O3U6EI5J6AAhmuoc5z0CAAggQAAGkWfsOQCh9KyzFX/5f////NExA0UkyKsAEBKvP4Us8vl//omf/p/39f3cpaI/22rdJkdEQchzs5ImIsUdIu4qQc5bnYgmw4XOrwDEAUOgMMHiJgEGhgsEgU4mCCgILhwUdUR0M///+v///////7///NExA0SkxqwABBOvf///sd/zt56LZWs7LQweQ5lMdVHXbNdx9DCITTC4lkSxrmnGHzkBgcI4qAMHBoNRQNBIi8eaMjRRUOiSdGVa///////7l////5/////////31/f//NExBUSixq0AAhQvdf1C33MVNpVX06OLl0jG58VIvIra5x7QMJKPq3cTQhgguIAOg4HfZgemK4tZDFCwKnVRBKFqgv/////2/////9vr/flfp6nlRSOXr0dQYZUMWYx//NExB0Qyu6wABBEuYUDIBBxJS0HCjCnUuhjSlYwEKM7Gvl+YrKAoYMKoY0zhQU6KBSz1QJ89qMCFFK68+L+5IH3gdG3DBarpQIxKrZDGcwhzFf21xWZTN9UdDChTFSS//NExCwSqW6QABDElEShoSBUsEg60Gg4xdR1o0Ybzw2p/2NkpXJdMsMWVLJsDtxp5ATCfM4sEvFcRhhqxrnLG3iTj/k1U3y5tzhhWKzbxTSQcWHcXApZ0I4ky9VwqtAy//NExDQR4Np8AMvGcAYDIoFHhU84qWDk8e71KxFo//66h524w18iACu5cwdEyYPMUjht/XpG3ZFQsOI5FYIAExE7FjN5LxozYxQWsmc2q1dfGd4x/uTyzkBQ8VNCQXcm//NExD8SWLp0AN7eTL/q69e3/////6VVZrTSllRiA9AZPPSsQCg80RaDBYCdfBNw0jpdkA2EQDwdGUNMvgwUY4A4tqpKX0/9AIfEAA1ddUVtXqHxMWxdN//rFGGt0IvN//NExEgSOPKAAOaKcNaNbrrwALsj5F4ICoMeyHiw40JxS2Z1V7WGJQ2YZYYwa6lOmgYyQZpOEE4eX+xtxJbfhge3BQIGZyICR/XC5NYjBMNqfTogNAyIM9/+seLh7gAP//NExFIWuOqMAN6ScD2tU5P////1UZb242M0d2azDtiLI/Dkia6W5ggwS+nJRHzCi4cl7ZAsQLos6jfgoAAqy/aojCgpeRn0gGwglOWxDcosGsnRJ1oTKvFjqwd///z8//NExEoUeNaYAM6YcFVlErYTArAwwz1HTHCvzkhhIBkgtBKgKzO24CFz+vCYEKj9y+IAlPGKrcCwJR+h9cqnIGKtyfAa4ZSVaCoEoW5yhAOhQmlO9Vati8PNCNjP//32//NExEsTwNKgANaecNFVb5KCZVBpAFGEHLuRNYhnrUEHUUcME4pjwQ5kefUH6LggWKmG1akdgYKA1T6vQhMPROAIeSaMSEvkqnAoIgZ3AzpodDNFkFBEn0gbXd5f/5dH//NExE8Xke6MAN5EmO3X/////y3uVZF86EIKYupsnbydx5xUPQIi4dC6jkxFS87i8u65skfZS2xaSPBw17KzsF0p+gnQUNCn1iQgAOVZQpL8YIKw49DDkhUAv04LTJXR//NExEMUIMKMANayTAHASC1brv//9QCiWx66GgYg7QjKO0JKVOVaoqorQpeaU4dxA6dlcIZVJrbWYOl1BD0zSuk06Iw67MHC3IWXEuqUMo5VQooMBRG8cUJm2JaFf//+//NExEUSCMp0AM4ecIqBVNUd60paiaSNTVS0JcWHVBgLgSZTlVQnDH9zFtCuFAwbODBkoeYgKYJta8CEzk+xs/GjnBZyz7848bUGAQGgQaBxzvZ9n//T9VTlqhoG7GmY//NExE8SSMJcAMJGTNVpzcBDzLNxNM9NvKw2hV806flQ2cgLDBhEOCjUxYYBBQSIli5EqPGw4IiMSEJlCqkLC/l52868oPY845C80hEPNIWz7lbEYfvggmyGmPUk+eFx//NExFggSr6EAHsMuWcpgg8BpIjzCBDPUptKzEGz9o7Z//77Z/2yMZ4//ffj6yGx/4O/APzGVUGPb2UBQ4pVZvPtVjqr3vkSrU8BARAsBYcBaQOtwG7E+acPcaxMWty0//NExCkbCuaoACjQue1NU9sO4p7TVHgijJkYhpSlGmllgPBecOQUP5FHCcPxPQufCOLn+L8nrxHX2QnlmULnwZuL1HdQHFHyeMMR28CMFIwqDP/mr////viJXy////////NExA8VWxa0ABBMuf/////b//////fX7tv3t/v9ecd5RfXtBIkSSuqIHE9dyGUUYu8zeYGs4S3sQYWEUZYFp5AMzAikxAgtjFBz4PtEEk7EKSF1P/z////////////+//NExAwSGw60AAgQuef/26/eYGItzA4tlixiXUmkD3rUQRjETpXwUxNFQxcPECOgNVD48OhUFRZB6qKiwhCMSIpI0RhI5A1hQAoN/d1Kev/mUtY2kIYBqTJXRQHXn9bK//NExBYSqeaoABBKmTHfY3/221GCIcA4aKO2lXoZFsLILAZQocE49QuRBTxvTWg3/ySuF0kovTgrhwSCy5JXEjkVGSxaRAs6YmgYkqd52rcILEmVkSBTBWZksiRfMrs7//NExB4Q+SKUADCMcD0//qnbG+HU5vGnUnah4aBoSgqLA00jK1oCSxMe09tQd//X//bUVR5PQAaicYQmhgkGZZgdVGkQs8IwMM84qTAbwIifVnL4qVGyp+r9hYaRkRvI//NExC0SiM58ANPMcLTeHT5b5KmIqgY+BhLepIBERGqoe7LbHMwVOw1LVUwotNoIjH6llTRQoFCOCB4Lh92DAIfDmeTAJtUMzCgTDhTKn3UODq/Mx8tzufjONL/6nOkD//NExDUSqJZwAN8wTAbECBIMCpsiJ1IeD0QEUO7VXAgc/0p9bdZbJips/O4gYiXnDgMItpunUzAaw5cUEbAIJ1ZmIKhb+o4DRn+cSbrYYM5Bep3zk0bQj537+roUXf3I//NExD0RmSaMAN6EcGKDJQowEK66wvWYw+6BEYvqbGBSmOT5xgaPD5LU2ncEPv32mIQo9GrkQC5A8Stfr1KkAQZAWBYaaP3qe+5nObReYYzD0RZO5CVfbNSwICIBv/gw//NExEkSOR6oAM5UcLvN0A7KtynT0D1brUJLMazjFI6A4Hv5aJAGzW+1hUWxbf2ZIh12v5tRQvxZynIA5/3Z/8f6EGoKOeL0SVBqZ3Vuvv0blMvXnKK6dsEIms6EEB05//NExFMSYYqsAMZOlKYkX5fnUkC+VAJFh0s3Ir1VnjU8vza5Zw3DDPDd1wCbbVnEeeN5bY366+cP7arif+7yFaeIVCTjD/35ZXKn1/oqXrC2iazAIwXGZdOTD/CJlXZM//NExFwSUSK0AJYecBl9Z9SAVfVimZtzsocnjJjlGBPrCbgIpJjMXT9BijqONWmbc6+gUakCJkWFd1lNe6epKFa3PfYhFYnyuAhsTeimEtFwsuGMeugDsLdo4ZTTFm3s//NExGUSmSa0AIYacJpCXt/5Qwi1XN0QPJjISwAxStkkUl0DNqaTaaHR6kdkzUYGZaNddZTKuFd99vbUhU2WXgVR+J4A4Z663Qv7DtSbKipHOKVgo4KyjVwZAsSqRBbC//NExG0SYSK0AH4acN5YS/hqx2C5RTnP5SwIUV9PcFg6VMLqaxDr4spg9i/+r+mvvTOCY3KgqaJSjEdQZdPMwQQoU1QYYchaYrisDL9P9NSpH53kJYKeNFhmUtggmXfM//NExHYRQLawAI4eTG7Ny76CQuzYBa7lrkRMGy5l93ojjOin//Sqs26hLB1uqGB1YOpS5YRmEJlg5TrTZliytxFHh5CA6LMMTTWql+aVlAYLirN2IxU+SAQgb//yIaOg//NExIQSiLKkAMZwTJhQFxg9KUW2mHuqt/2+qpRfoB1d7Alkmxt0AkVpr/CJ9+5YquJiv8z0AkP0/ReRYbGTHQSNUzLGvT1fL88rPDP3f/XAQJMAwWXDVt5btXyN1KEn//NExIwR4I6gAMYwTCxQ2pfP1TDKdqFwxqD3jIias9Ahh3ORTkBJEy4S+RbBRiOF4i9F5HYoZemJFh9XP93nEF0f/66BMLOft1SWO/2XWsoqaK1NfBrD6/IbFYYKAu8Q//NExJcRoKKYAMZwTIg20/ctMPcSFh4sEiSMNM4NseAZYOnAzXQYmumWxqCZbcu/P///9QgOJO3suaeTrA/29OOeaXVDzsqOSIuS8CIxo3CJo/gfyXJEI13lgSlModsR//NExKMQEJqQAMZwTCFCoYEA3cpW7qurX6CX/uy8vd///WOCj22almaP/14sTIXqZTLnFPYJdt1hwGNPpSoaBwtAf4VkLSvw4qKCJaxgSEHIQUT4XAsAXqNQ5qcrfz5P//NExLURWI6EANZwTDnz3UuLf/GODkeRGRC44KvZvR/SiMJHdmZoUyZeQvAspuUCgEJf0Zy9VrKpi5MyTJqZMdPKFnbh6WwNUcx/McZ5D81jwVGDkPRbU083/ioVBUSI//NExMIPwI6AANYwTHuAQgAoUPlrf/lf1/0/rXrAQRkhfsMKicz95JfDibhQ3TMhpfiZFvHiLcXcdI+jjENHaXgsR+qxVPabzi9fbOn0mzr8qIiQV1ZEkyEnoCphjoSI//NExNYSgJZ0ANYeTJUiEoVAVSeNGcKgICp1f/8cIwiuSNkTfyD0VgXu9WlhqrUaxR7zEqKDXLOZ2CwtGpcBYZWsWKEw2eHFTrAmCSTF8kKmZ4m5iWMEw5tkLupY/dPS//NExN8R8JJsAMveTMgc+peLKfSj0QiC5MGBWseRkBZkjMGhzjTbRnTJs5ARIDIDR4YSD1sJw2bQG4A4pFypiAY4AFEAbDVmuBhgDQJnMgMGAdHEwia7RAkawLIFkjQO//NExOoVOL40AMPeTMaz10NZyywOQbjhqg6IwgpDY9gvSrTY0GtGu7bMEixoMgAgMaDEwk7fTzVy3dtNhI3K9abCQlABFJEWb//+kGRRZRRxUkllKoqktn/7EtS1nf9S//NExOgSuM4EAEmGcFmt///8S6lv//5JLFlvYmw2NSRWikiHCCBMqalIaPCyB5TnGpBhgWQuHRbt+7t9LO3Z2IqKimEjixBwiKkDLqeJjIEP6DU0BAiyaA7P//MPixkC//NExPAVgRHwAEmGcAsLBsAA4LCYyBBYWJhCGsGASM7kNUTK+eqVPHiXshBPzMN1ChuFBLXGBTNhEEMgkosmxYMy4tVr6baJexV+GMwTrlC+cjcXwbBWOksQvOP0fOC4//NExO0V+Q3QAGGMcXJsWF+dv3B5hqStedjvqAOUkq+2bm7FxZgsUNDDyBMws5Fe5qBMwulIXE7DtmO2aztmXDs9YnbPU6gTKrNelJmFmkgw8geVLHIpx3pAmWoBRQPI//NExOgT8S2MADGEcFK62NsojTFokgUDIDiJiyJV7lO1q1cj5SamsNYdJYf/9hrnkyCgoZOj8fthICkn/IgsRckJdISIu/9TdSPqJD6iTAlVTEFNRTMuMTAwTEFNRTMu//NExOsk4xnYAHsMvTEwMFVVVVVVVVVVVVVVVVVVVVVVVVVVVVVVVVVVVVVVVVVVVVVVVVVVVVVVVVVVVVVVVVVVVVVVVVVVVVVVVVVVVVVVVVVVVVVVVVVVTEFNRTMu//NExKoRyS3MAEmGcDEwMFVVVVVVVVVVVVVVVVVVVVVVVVVVVVVVVVVVVVVVVVVVVVVVVVVVVVVVVVVVVVVVVVVVVVVVVVVVVVVVVVVVVVVVVVVVVVVVVVVVTEFNRTMu//NExKwAAANIAAAAADEwMFVVVVVVVVVVVVVVVVVVVVVVVVVVVVVVVVVVVVVVVVVVVVVVVVVVVVVVVVVVVVVVVVVVVVVVVVVVVVVVVVVVVVVVVVVVVVVVVVVVTEFNRTMu//NExKwAAANIAAAAADEwMFVVVVVVVVVVVVVVVVVVVVVVVVVVVVVVVVVVVVVVVVVVVVVVVVVVVVVVVVVVVVVVVVVVVVVVVVVVVVVVVVVVVVVVVVVVVVVVVVVVTEFNRTMu//NExKwAAANIAAAAADEwMFVVVVVVVVVVVVVVVVVVVVVVVVVVVVVVVVVVVVVVVVVVVVVVVVVVVVVVVVVVVVVVVVVVVVVVVVVVVVVVVVVVVVVVVVVVVVVVVVVVVVVVVVVV//NExKwAAANIAAAAAFVVVVVVVVVVVVVVVVVVVVVVVVVVVVVVVVVVVVVVVVVVVVVVVVVVVVVVVVVVVVVVVVVVVVVVVVVVVVVVVVVVVVVVVVVVVVVVVVVVVVVVVVVVVVVV//NExKwAAANIAAAAAFVVVVVVVVVVVVVVVVVVVVVVVVVVVVVVVVVVVVVVVVVVVVVVVVVVVVVVVVVVVVVVVVVVVVVVVVVVVVVVVVVVVVVVVVVVVVVVVVVVVVVVVVVVVVVV\" type=\"audio/mpeg\" />\n",
              "                    Your browser does not support the audio element.\n",
              "                </audio>\n",
              "              "
            ]
          },
          "metadata": {}
        }
      ]
    },
    {
      "cell_type": "markdown",
      "source": [
        "**Dictionary Question**"
      ],
      "metadata": {
        "id": "stYvuEaj7XRJ"
      }
    },
    {
      "cell_type": "code",
      "source": [
        "# Dictionary with some data\n",
        "person = {\"name\": \"John\", \"age\": 30, \"city\": \"New York\"}\n",
        "\n",
        "print()\n",
        "\n",
        "print(\"name: \", Sarah)"
      ],
      "metadata": {
        "id": "8-VX-XuF7b8c",
        "outputId": "5e6373fe-16bb-41b4-9ce5-4f39cc206c15",
        "colab": {
          "base_uri": "https://localhost:8080/",
          "height": 203
        }
      },
      "execution_count": 9,
      "outputs": [
        {
          "output_type": "stream",
          "name": "stdout",
          "text": [
            "\n"
          ]
        },
        {
          "output_type": "error",
          "ename": "NameError",
          "evalue": "name 'Sarah' is not defined",
          "traceback": [
            "\u001b[0;31m---------------------------------------------------------------------------\u001b[0m",
            "\u001b[0;31mNameError\u001b[0m                                 Traceback (most recent call last)",
            "\u001b[0;32m<ipython-input-9-84b965162ee8>\u001b[0m in \u001b[0;36m<cell line: 6>\u001b[0;34m()\u001b[0m\n\u001b[1;32m      4\u001b[0m \u001b[0mprint\u001b[0m\u001b[0;34m(\u001b[0m\u001b[0;34m)\u001b[0m\u001b[0;34m\u001b[0m\u001b[0;34m\u001b[0m\u001b[0m\n\u001b[1;32m      5\u001b[0m \u001b[0;34m\u001b[0m\u001b[0m\n\u001b[0;32m----> 6\u001b[0;31m \u001b[0mprint\u001b[0m\u001b[0;34m(\u001b[0m\u001b[0;34m\"name: \"\u001b[0m\u001b[0;34m,\u001b[0m \u001b[0mSarah\u001b[0m\u001b[0;34m)\u001b[0m\u001b[0;34m\u001b[0m\u001b[0;34m\u001b[0m\u001b[0m\n\u001b[0m",
            "\u001b[0;31mNameError\u001b[0m: name 'Sarah' is not defined"
          ]
        }
      ]
    },
    {
      "cell_type": "code",
      "source": [
        "my_dict = {'name': 'Alice', 'age': 30}"
      ],
      "metadata": {
        "id": "DhpwZA5V8XbI"
      },
      "execution_count": null,
      "outputs": []
    },
    {
      "cell_type": "code",
      "source": [
        "my_list = ['apple', 'banana', 'cherry', 'date', 'elderberry']"
      ],
      "metadata": {
        "id": "0bmRNGfZ8cz0"
      },
      "execution_count": null,
      "outputs": []
    },
    {
      "cell_type": "markdown",
      "source": [
        "## 😍 Comments for the above\n",
        "\n",
        "The question asked to define grades as a dictionary with 3 students name and grades. See the codes below"
      ],
      "metadata": {
        "id": "gmxm2ly2UPC5"
      }
    },
    {
      "cell_type": "code",
      "source": [
        "grades = {\"Sarah\": 80, \"John\": 70, \"Bob\":90}\n",
        "print(grades['Bob'])"
      ],
      "metadata": {
        "id": "p_XaDx5QUbWw",
        "outputId": "64fec370-8a1f-4922-d8ae-e45d44dabf18",
        "colab": {
          "base_uri": "https://localhost:8080/"
        }
      },
      "execution_count": 10,
      "outputs": [
        {
          "output_type": "stream",
          "name": "stdout",
          "text": [
            "90\n"
          ]
        }
      ]
    },
    {
      "cell_type": "markdown",
      "source": [
        "**Funtion dictionary**"
      ],
      "metadata": {
        "id": "CZwIpgzG_vpJ"
      }
    },
    {
      "cell_type": "markdown",
      "source": [
        "😍Note that input() is pre-defined funtion and you should not change it. When you use input(), it requires only one argument."
      ],
      "metadata": {
        "id": "abgB7SqNUpZC"
      }
    },
    {
      "cell_type": "code",
      "source": [
        "input(20 / 4) # This shouldn't be run"
      ],
      "metadata": {
        "colab": {
          "base_uri": "https://localhost:8080/",
          "height": 300
        },
        "id": "IDXc8jQI_y2W",
        "outputId": "3345d67c-a571-4d1a-e264-0138f1cd233b"
      },
      "execution_count": null,
      "outputs": [
        {
          "output_type": "error",
          "ename": "KeyboardInterrupt",
          "evalue": "Interrupted by user",
          "traceback": [
            "\u001b[0;31m---------------------------------------------------------------------------\u001b[0m",
            "\u001b[0;31mKeyboardInterrupt\u001b[0m                         Traceback (most recent call last)",
            "\u001b[0;32m<ipython-input-83-e3d684afb3cb>\u001b[0m in \u001b[0;36m<cell line: 1>\u001b[0;34m()\u001b[0m\n\u001b[0;32m----> 1\u001b[0;31m \u001b[0minput\u001b[0m\u001b[0;34m(\u001b[0m\u001b[0;36m20\u001b[0m \u001b[0;34m/\u001b[0m \u001b[0;36m4\u001b[0m\u001b[0;34m)\u001b[0m\u001b[0;34m\u001b[0m\u001b[0;34m\u001b[0m\u001b[0m\n\u001b[0m",
            "\u001b[0;32m/usr/local/lib/python3.10/dist-packages/ipykernel/kernelbase.py\u001b[0m in \u001b[0;36mraw_input\u001b[0;34m(self, prompt)\u001b[0m\n\u001b[1;32m    849\u001b[0m                 \u001b[0;34m\"raw_input was called, but this frontend does not support input requests.\"\u001b[0m\u001b[0;34m\u001b[0m\u001b[0;34m\u001b[0m\u001b[0m\n\u001b[1;32m    850\u001b[0m             )\n\u001b[0;32m--> 851\u001b[0;31m         return self._input_request(str(prompt),\n\u001b[0m\u001b[1;32m    852\u001b[0m             \u001b[0mself\u001b[0m\u001b[0;34m.\u001b[0m\u001b[0m_parent_ident\u001b[0m\u001b[0;34m,\u001b[0m\u001b[0;34m\u001b[0m\u001b[0;34m\u001b[0m\u001b[0m\n\u001b[1;32m    853\u001b[0m             \u001b[0mself\u001b[0m\u001b[0;34m.\u001b[0m\u001b[0m_parent_header\u001b[0m\u001b[0;34m,\u001b[0m\u001b[0;34m\u001b[0m\u001b[0;34m\u001b[0m\u001b[0m\n",
            "\u001b[0;32m/usr/local/lib/python3.10/dist-packages/ipykernel/kernelbase.py\u001b[0m in \u001b[0;36m_input_request\u001b[0;34m(self, prompt, ident, parent, password)\u001b[0m\n\u001b[1;32m    893\u001b[0m             \u001b[0;32mexcept\u001b[0m \u001b[0mKeyboardInterrupt\u001b[0m\u001b[0;34m:\u001b[0m\u001b[0;34m\u001b[0m\u001b[0;34m\u001b[0m\u001b[0m\n\u001b[1;32m    894\u001b[0m                 \u001b[0;31m# re-raise KeyboardInterrupt, to truncate traceback\u001b[0m\u001b[0;34m\u001b[0m\u001b[0;34m\u001b[0m\u001b[0m\n\u001b[0;32m--> 895\u001b[0;31m                 \u001b[0;32mraise\u001b[0m \u001b[0mKeyboardInterrupt\u001b[0m\u001b[0;34m(\u001b[0m\u001b[0;34m\"Interrupted by user\"\u001b[0m\u001b[0;34m)\u001b[0m \u001b[0;32mfrom\u001b[0m \u001b[0;32mNone\u001b[0m\u001b[0;34m\u001b[0m\u001b[0;34m\u001b[0m\u001b[0m\n\u001b[0m\u001b[1;32m    896\u001b[0m             \u001b[0;32mexcept\u001b[0m \u001b[0mException\u001b[0m \u001b[0;32mas\u001b[0m \u001b[0me\u001b[0m\u001b[0;34m:\u001b[0m\u001b[0;34m\u001b[0m\u001b[0;34m\u001b[0m\u001b[0m\n\u001b[1;32m    897\u001b[0m                 \u001b[0mself\u001b[0m\u001b[0;34m.\u001b[0m\u001b[0mlog\u001b[0m\u001b[0;34m.\u001b[0m\u001b[0mwarning\u001b[0m\u001b[0;34m(\u001b[0m\u001b[0;34m\"Invalid Message:\"\u001b[0m\u001b[0;34m,\u001b[0m \u001b[0mexc_info\u001b[0m\u001b[0;34m=\u001b[0m\u001b[0;32mTrue\u001b[0m\u001b[0;34m)\u001b[0m\u001b[0;34m\u001b[0m\u001b[0;34m\u001b[0m\u001b[0m\n",
            "\u001b[0;31mKeyboardInterrupt\u001b[0m: Interrupted by user"
          ]
        }
      ]
    },
    {
      "cell_type": "markdown",
      "source": [
        "Copy the code under the section 'Mathematical operation' in our codebook, as shown below."
      ],
      "metadata": {
        "id": "4mppr1shVDSX"
      }
    },
    {
      "cell_type": "code",
      "source": [
        "# Define a function for multiplication\n",
        "def multiply(x, y):\n",
        "    return x * y\n",
        "\n",
        "# Test the function\n",
        "result = multiply(5, 7)\n",
        "print(\"The result of multiplication is:\", result)"
      ],
      "metadata": {
        "id": "jij7akLvU5f2"
      },
      "execution_count": null,
      "outputs": []
    },
    {
      "cell_type": "markdown",
      "source": [
        "Then, modify the function as division, as shown below"
      ],
      "metadata": {
        "id": "r-oQQMckVKk8"
      }
    },
    {
      "cell_type": "code",
      "source": [
        "\n",
        "# Define a function for multiplication\n",
        "def division(x, y):  # Change multipy to something else, e.g., division\n",
        "    return x/y     # x/y instead of x*y\n",
        "\n",
        "# Test the function\n",
        "result = division(20, 4)  # Change the function name now to division\n",
        "print(\"The result of division is:\", result)"
      ],
      "metadata": {
        "id": "z178_coOVOkN",
        "outputId": "0f93ebfe-343b-4be1-8e9b-f4b3d9b15f92",
        "colab": {
          "base_uri": "https://localhost:8080/"
        }
      },
      "execution_count": 12,
      "outputs": [
        {
          "output_type": "stream",
          "name": "stdout",
          "text": [
            "The result of division is: 5.0\n"
          ]
        }
      ]
    },
    {
      "cell_type": "markdown",
      "source": [
        "**Audio question**"
      ],
      "metadata": {
        "id": "xAzL_RQzAIaT"
      }
    },
    {
      "cell_type": "code",
      "source": [
        "import gradio as gr\n",
        "from gtts import gTTS\n",
        "import os\n",
        "\n",
        "def text_to_speech(text, language):\n",
        "    lang_code = 'en' if language == \"English\" else 'ko'\n",
        "    tts = gTTS(text=text, lang=lang_code, slow=False)\n",
        "    tts.save(\"output.mp3\")\n",
        "    return \"output.mp3\"\n",
        "\n",
        "interface = gr.Interface(\n",
        "    fn=text_to_speech,\n",
        "    inputs=[\n",
        "        gr.Textbox(lines=3, label=\"Enter text\"),\n",
        "        gr.Radio(choices=[\"English\", \"Korean\"], label=\"Select language\")\n",
        "    ],\n",
        "    outputs=gr.Audio(type=\"filepath\", label=\"Audio\"),\n",
        "    title=\"Text-to-Speech\",\n",
        "    description=\"Type in some text, select a language, and generate audio.\",\n",
        ")\n",
        "\n",
        "interface.launch()\n"
      ],
      "metadata": {
        "colab": {
          "base_uri": "https://localhost:8080/",
          "height": 404
        },
        "id": "L45Yweh6AL3z",
        "outputId": "58894514-0d40-4ad9-8c7d-c0bd651c5927"
      },
      "execution_count": null,
      "outputs": [
        {
          "output_type": "error",
          "ename": "ModuleNotFoundError",
          "evalue": "No module named 'gradio'",
          "traceback": [
            "\u001b[0;31m---------------------------------------------------------------------------\u001b[0m",
            "\u001b[0;31mModuleNotFoundError\u001b[0m                       Traceback (most recent call last)",
            "\u001b[0;32m<ipython-input-85-659c5f426898>\u001b[0m in \u001b[0;36m<cell line: 1>\u001b[0;34m()\u001b[0m\n\u001b[0;32m----> 1\u001b[0;31m \u001b[0;32mimport\u001b[0m \u001b[0mgradio\u001b[0m \u001b[0;32mas\u001b[0m \u001b[0mgr\u001b[0m\u001b[0;34m\u001b[0m\u001b[0;34m\u001b[0m\u001b[0m\n\u001b[0m\u001b[1;32m      2\u001b[0m \u001b[0;32mfrom\u001b[0m \u001b[0mgtts\u001b[0m \u001b[0;32mimport\u001b[0m \u001b[0mgTTS\u001b[0m\u001b[0;34m\u001b[0m\u001b[0;34m\u001b[0m\u001b[0m\n\u001b[1;32m      3\u001b[0m \u001b[0;32mimport\u001b[0m \u001b[0mos\u001b[0m\u001b[0;34m\u001b[0m\u001b[0;34m\u001b[0m\u001b[0m\n\u001b[1;32m      4\u001b[0m \u001b[0;34m\u001b[0m\u001b[0m\n\u001b[1;32m      5\u001b[0m \u001b[0;32mdef\u001b[0m \u001b[0mtext_to_speech\u001b[0m\u001b[0;34m(\u001b[0m\u001b[0mtext\u001b[0m\u001b[0;34m,\u001b[0m \u001b[0mlanguage\u001b[0m\u001b[0;34m)\u001b[0m\u001b[0;34m:\u001b[0m\u001b[0;34m\u001b[0m\u001b[0;34m\u001b[0m\u001b[0m\n",
            "\u001b[0;31mModuleNotFoundError\u001b[0m: No module named 'gradio'",
            "",
            "\u001b[0;31m---------------------------------------------------------------------------\u001b[0;32m\nNOTE: If your import is failing due to a missing package, you can\nmanually install dependencies using either !pip or !apt.\n\nTo view examples of installing some common dependencies, click the\n\"Open Examples\" button below.\n\u001b[0;31m---------------------------------------------------------------------------\u001b[0m\n"
          ],
          "errorDetails": {
            "actions": [
              {
                "action": "open_url",
                "actionText": "Open Examples",
                "url": "/notebooks/snippets/importing_libraries.ipynb"
              }
            ]
          }
        }
      ]
    },
    {
      "cell_type": "code",
      "source": [
        "# First, install the gTTS library if you haven't already\n",
        "!pip install gTTS\n",
        "\n",
        "# Import the gTTS library\n",
        "from gtts import gTTS\n",
        "\n",
        "# Import IPython display module\n",
        "from IPython.display import Audio, display"
      ],
      "metadata": {
        "id": "moDDdOLQAm9a",
        "outputId": "f368a5f3-173a-4aec-e73b-a51c9761b0f1",
        "colab": {
          "base_uri": "https://localhost:8080/"
        }
      },
      "execution_count": 13,
      "outputs": [
        {
          "output_type": "stream",
          "name": "stdout",
          "text": [
            "Requirement already satisfied: gTTS in /usr/local/lib/python3.10/dist-packages (2.5.1)\n",
            "Requirement already satisfied: requests<3,>=2.27 in /usr/local/lib/python3.10/dist-packages (from gTTS) (2.31.0)\n",
            "Requirement already satisfied: click<8.2,>=7.1 in /usr/local/lib/python3.10/dist-packages (from gTTS) (8.1.7)\n",
            "Requirement already satisfied: charset-normalizer<4,>=2 in /usr/local/lib/python3.10/dist-packages (from requests<3,>=2.27->gTTS) (3.3.2)\n",
            "Requirement already satisfied: idna<4,>=2.5 in /usr/local/lib/python3.10/dist-packages (from requests<3,>=2.27->gTTS) (3.7)\n",
            "Requirement already satisfied: urllib3<3,>=1.21.1 in /usr/local/lib/python3.10/dist-packages (from requests<3,>=2.27->gTTS) (2.0.7)\n",
            "Requirement already satisfied: certifi>=2017.4.17 in /usr/local/lib/python3.10/dist-packages (from requests<3,>=2.27->gTTS) (2024.2.2)\n"
          ]
        }
      ]
    },
    {
      "cell_type": "code",
      "source": [
        "# Text to be converted to speech\n",
        "text = \"This is a test message.\"\n",
        "\n",
        "# Language in which you want to convert\n",
        "language = 'en'\n",
        "\n",
        "# Pass the text and language to the gTTS module\n",
        "speech = gTTS(text = text, lang = language, slow = False)\n",
        "\n",
        "# Save the converted audio file\n",
        "speech.save(\"output.mp3\")\n",
        "\n",
        "# Display the audio directly in the notebook\n",
        "display(Audio(\"output.mp3\", autoplay=True))"
      ],
      "metadata": {
        "id": "sE8t2bq7Apyy",
        "outputId": "d9ed7b4c-9179-45c1-e51e-b9379e30fbc4",
        "colab": {
          "base_uri": "https://localhost:8080/",
          "height": 74
        }
      },
      "execution_count": 14,
      "outputs": [
        {
          "output_type": "display_data",
          "data": {
            "text/plain": [
              "<IPython.lib.display.Audio object>"
            ],
            "text/html": [
              "\n",
              "                <audio  controls=\"controls\" autoplay=\"autoplay\">\n",
              "                    <source src=\"data:audio/mpeg;base64,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\" type=\"audio/mpeg\" />\n",
              "                    Your browser does not support the audio element.\n",
              "                </audio>\n",
              "              "
            ]
          },
          "metadata": {}
        }
      ]
    },
    {
      "cell_type": "markdown",
      "source": [
        "##😍 Comments on the above code\n",
        "\n",
        "Replace\n",
        "```\n",
        "# Text to be converted to speech\n",
        "text = \"This is a test message.\"\n",
        "```\n",
        "\n",
        "with\n",
        "\n",
        "```\n",
        "text = input()\n",
        "```\n",
        "\n",
        "Then the code should work :-) You can type any sentence to get audio as you want."
      ],
      "metadata": {
        "id": "O0LLd3i8Vngu"
      }
    },
    {
      "cell_type": "markdown",
      "source": [
        "**Part 3**"
      ],
      "metadata": {
        "id": "EolK3r0N9wWB"
      }
    },
    {
      "cell_type": "code",
      "source": [
        "print(\"5\" * 3 + \"7\")"
      ],
      "metadata": {
        "colab": {
          "base_uri": "https://localhost:8080/"
        },
        "id": "9l_cuW0G8ifJ",
        "outputId": "969b1f58-13c5-45e6-8509-ebae33165128"
      },
      "execution_count": null,
      "outputs": [
        {
          "output_type": "stream",
          "name": "stdout",
          "text": [
            "5557\n"
          ]
        }
      ]
    },
    {
      "cell_type": "code",
      "source": [
        "_my_variable"
      ],
      "metadata": {
        "colab": {
          "base_uri": "https://localhost:8080/",
          "height": 147
        },
        "id": "OtezACVG98SZ",
        "outputId": "012b39e1-30fc-466f-f9bf-6a7a90c6009c"
      },
      "execution_count": null,
      "outputs": [
        {
          "output_type": "error",
          "ename": "NameError",
          "evalue": "name '_my_variable' is not defined",
          "traceback": [
            "\u001b[0;31m---------------------------------------------------------------------------\u001b[0m",
            "\u001b[0;31mNameError\u001b[0m                                 Traceback (most recent call last)",
            "\u001b[0;32m<ipython-input-78-01d360b4ffa6>\u001b[0m in \u001b[0;36m<cell line: 1>\u001b[0;34m()\u001b[0m\n\u001b[0;32m----> 1\u001b[0;31m \u001b[0m_my_variable\u001b[0m\u001b[0;34m\u001b[0m\u001b[0;34m\u001b[0m\u001b[0m\n\u001b[0m",
            "\u001b[0;31mNameError\u001b[0m: name '_my_variable' is not defined"
          ]
        }
      ]
    },
    {
      "cell_type": "code",
      "source": [
        "num = 5 + 3.2\n",
        "print(num)"
      ],
      "metadata": {
        "colab": {
          "base_uri": "https://localhost:8080/"
        },
        "id": "bJEEQLhg-H0B",
        "outputId": "eb1661a4-c9b4-4c3d-d787-ac21cdf7d6e6"
      },
      "execution_count": null,
      "outputs": [
        {
          "output_type": "stream",
          "name": "stdout",
          "text": [
            "8.2\n"
          ]
        }
      ]
    },
    {
      "cell_type": "code",
      "source": [
        "my_list = [10, 20, 30, 40, 50]\n",
        "my_list[2:4]"
      ],
      "metadata": {
        "colab": {
          "base_uri": "https://localhost:8080/"
        },
        "id": "CiMxpqM6-Myh",
        "outputId": "baa073e0-cab0-4937-9432-e84feac85a95"
      },
      "execution_count": null,
      "outputs": [
        {
          "output_type": "execute_result",
          "data": {
            "text/plain": [
              "[30, 40]"
            ]
          },
          "metadata": {},
          "execution_count": 80
        }
      ]
    },
    {
      "cell_type": "code",
      "source": [
        "print('5' + '7')"
      ],
      "metadata": {
        "colab": {
          "base_uri": "https://localhost:8080/"
        },
        "id": "cVdaYerQ-RCB",
        "outputId": "66f30138-f895-4614-e4ec-e205abb464fb"
      },
      "execution_count": null,
      "outputs": [
        {
          "output_type": "stream",
          "name": "stdout",
          "text": [
            "57\n"
          ]
        }
      ]
    },
    {
      "cell_type": "markdown",
      "source": [
        "---\n",
        "The END\n",
        "\n",
        "Good job 😍"
      ],
      "metadata": {
        "id": "QSzn-0L_WAcp"
      }
    }
  ]
}